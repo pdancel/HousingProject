{
 "cells": [
  {
   "cell_type": "code",
   "execution_count": null,
   "metadata": {
    "collapsed": true
   },
   "outputs": [],
   "source": [
    "! pip inst"
   ]
  },
  {
   "cell_type": "code",
   "execution_count": 40,
   "metadata": {
    "collapsed": true
   },
   "outputs": [],
   "source": [
    "from numpy import genfromtxt\n",
    "from time import time\n",
    "from datetime import datetime\n",
    "from sqlalchemy import Column, Integer, Float, Date, String\n",
    "from sqlalchemy.ext.declarative import declarative_base\n",
    "from sqlalchemy import create_engine\n",
    "from sqlalchemy.orm import sessionmaker"
   ]
  },
  {
   "cell_type": "code",
   "execution_count": 41,
   "metadata": {
    "collapsed": true
   },
   "outputs": [],
   "source": [
    "def Load_Data(file_name):\n",
    "    data = genfromtxt(file_name, delimiter=',', skip_header=1, converters={0: lambda s: str(s)})\n",
    "    return data.tolist()"
   ]
  },
  {
   "cell_type": "code",
   "execution_count": 42,
   "metadata": {
    "collapsed": true
   },
   "outputs": [],
   "source": [
    "Base = declarative_base()"
   ]
  },
  {
   "cell_type": "code",
   "execution_count": 43,
   "metadata": {
    "collapsed": true
   },
   "outputs": [],
   "source": [
    "class facts_by_state(Base):\n",
    "    __tablename__ = 'facts_by_state'\n",
    "    id = Column(Integer, primary_key=True)\n",
    "    state = Column(String(50))\n",
    "    female_salary = Column(Float)\n",
    "    male_salary = Column(Float)\n",
    "    combined_salary = Column(Float)\n",
    "    median_home_price = Column(Float)\n",
    "    size = Column(Integer)"
   ]
  },
  {
   "cell_type": "code",
   "execution_count": 44,
   "metadata": {
    "collapsed": true
   },
   "outputs": [],
   "source": [
    "if __name__ == \"__main__\":\n",
    "    t = time()\n",
    "\n",
    "    #Create the database\n",
    "    engine = create_engine('sqlite:///csv_test.db')\n",
    "    Base.metadata.create_all(engine)\n",
    "\n",
    "    #Create the session\n",
    "    session = sessionmaker()\n",
    "    session.configure(bind=engine)\n",
    "    s = session()\n"
   ]
  },
  {
   "cell_type": "code",
   "execution_count": 46,
   "metadata": {},
   "outputs": [
    {
     "name": "stdout",
     "output_type": "stream",
     "text": [
      "Time elapsed: 196.32106637954712 s.\n"
     ]
    }
   ],
   "source": [
    "    try:\n",
    "        file_name = \"median_salary_by_state.csv\" \n",
    "        data = Load_Data(file_name) \n",
    "\n",
    "        for i in data:\n",
    "            record = facts_by_state(**{\n",
    "                'state' : i[1],\n",
    "                'female_salary' : i[2],\n",
    "                'male_salary' : i[3],\n",
    "                'combined_salary' : i[4],\n",
    "                'median_home_price' : i[5],\n",
    "                'size' : i[6]\n",
    "            })\n",
    "            s.add(record) #Add all the records\n",
    "\n",
    "        s.commit() #Attempt to commit all the records\n",
    "    except:\n",
    "        s.rollback() #Rollback the changes on error\n",
    "    finally:\n",
    "        s.close() #Close the connection\n",
    "    print (\"Time elapsed: \" + str(time() - t) + \" s.\") #0.091s"
   ]
  },
  {
   "cell_type": "code",
   "execution_count": null,
   "metadata": {
    "collapsed": true
   },
   "outputs": [],
   "source": []
  }
 ],
 "metadata": {
  "kernelspec": {
   "display_name": "Python 3",
   "language": "python",
   "name": "python3"
  },
  "language_info": {
   "codemirror_mode": {
    "name": "ipython",
    "version": 3
   },
   "file_extension": ".py",
   "mimetype": "text/x-python",
   "name": "python",
   "nbconvert_exporter": "python",
   "pygments_lexer": "ipython3",
   "version": "3.6.3"
  }
 },
 "nbformat": 4,
 "nbformat_minor": 2
}
